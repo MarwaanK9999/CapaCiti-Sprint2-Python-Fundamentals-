{
 "cells": [
  {
   "cell_type": "code",
   "execution_count": 3,
   "id": "f9c3ab26",
   "metadata": {},
   "outputs": [
    {
     "data": {
      "text/plain": [
       "a     3\n",
       "b     7\n",
       "c    11\n",
       "d    15\n",
       "e    19\n",
       "dtype: int64"
      ]
     },
     "execution_count": 3,
     "metadata": {},
     "output_type": "execute_result"
    }
   ],
   "source": [
    "import pandas as pd\n",
    "\n",
    "a = pd.Series({\"a\": 2, \"b\": 4, \"c\": 6, \"d\": 8, \"e\": 10})\n",
    "\n",
    "b = pd.Series({\"a\": 1, \"b\": 3, \"c\": 5, \"d\": 7, \"e\": 9})\n",
    "\n",
    "c = a.add(b,fill_value=0)\n",
    "\n",
    "c"
   ]
  },
  {
   "cell_type": "code",
   "execution_count": 4,
   "id": "3eddfbf5",
   "metadata": {},
   "outputs": [
    {
     "data": {
      "text/plain": [
       "a    1\n",
       "b    1\n",
       "c    1\n",
       "d    1\n",
       "e    1\n",
       "dtype: int64"
      ]
     },
     "execution_count": 4,
     "metadata": {},
     "output_type": "execute_result"
    }
   ],
   "source": [
    "import pandas as pd\n",
    "\n",
    "a = pd.Series({\"a\": 2, \"b\": 4, \"c\": 6, \"d\": 8, \"e\": 10})\n",
    "\n",
    "b = pd.Series({\"a\": 1, \"b\": 3, \"c\": 5, \"d\": 7, \"e\": 9})\n",
    "\n",
    "c = a.sub(b,fill_value=0)\n",
    "\n",
    "c"
   ]
  },
  {
   "cell_type": "code",
   "execution_count": 5,
   "id": "eace7634",
   "metadata": {},
   "outputs": [
    {
     "data": {
      "text/plain": [
       "a     2\n",
       "b    12\n",
       "c    30\n",
       "d    56\n",
       "e    90\n",
       "dtype: int64"
      ]
     },
     "execution_count": 5,
     "metadata": {},
     "output_type": "execute_result"
    }
   ],
   "source": [
    "import pandas as pd\n",
    "\n",
    "a = pd.Series({\"a\": 2, \"b\": 4, \"c\": 6, \"d\": 8, \"e\": 10})\n",
    "\n",
    "b = pd.Series({\"a\": 1, \"b\": 3, \"c\": 5, \"d\": 7, \"e\": 9})\n",
    "\n",
    "c = a.multiply(b,fill_value=0)\n",
    "\n",
    "c"
   ]
  },
  {
   "cell_type": "code",
   "execution_count": 6,
   "id": "7a256b74",
   "metadata": {},
   "outputs": [
    {
     "data": {
      "text/plain": [
       "a    2.000000\n",
       "b    1.333333\n",
       "c    1.200000\n",
       "d    1.142857\n",
       "e    1.111111\n",
       "dtype: float64"
      ]
     },
     "execution_count": 6,
     "metadata": {},
     "output_type": "execute_result"
    }
   ],
   "source": [
    "import pandas as pd\n",
    "\n",
    "a = pd.Series({\"a\": 2, \"b\": 4, \"c\": 6, \"d\": 8, \"e\": 10})\n",
    "\n",
    "b = pd.Series({\"a\": 1, \"b\": 3, \"c\": 5, \"d\": 7, \"e\": 9})\n",
    "\n",
    "c = a.divide(b,fill_value=0)\n",
    "\n",
    "c"
   ]
  },
  {
   "cell_type": "code",
   "execution_count": null,
   "id": "e46c625f",
   "metadata": {},
   "outputs": [],
   "source": []
  }
 ],
 "metadata": {
  "kernelspec": {
   "display_name": "Python 3",
   "language": "python",
   "name": "python3"
  },
  "language_info": {
   "codemirror_mode": {
    "name": "ipython",
    "version": 3
   },
   "file_extension": ".py",
   "mimetype": "text/x-python",
   "name": "python",
   "nbconvert_exporter": "python",
   "pygments_lexer": "ipython3",
   "version": "3.8.8"
  }
 },
 "nbformat": 4,
 "nbformat_minor": 5
}
