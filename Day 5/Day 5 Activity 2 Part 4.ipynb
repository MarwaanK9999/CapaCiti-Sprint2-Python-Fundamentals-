{
 "cells": [
  {
   "cell_type": "code",
   "execution_count": null,
   "id": "56d405df",
   "metadata": {},
   "outputs": [],
   "source": [
    "from numpy import NaN\n",
    "import pandas as pd\n",
    "\n",
    "print(\"Original collumns/Dataframe:\")\n",
    "\n",
    "D_f =pd.DataFrame({'Col1':['John','Peter','Tinker'],'Col2':['Doe','Pan','Bell'],'Col3':[23,29,21]})\n",
    "print(D_f)\n",
    "\n",
    "print(\"New collumns/Dataframe:\")\n",
    "D_f.columns=['Name','Surname','Age']\n",
    "print(D_f)"
   ]
  }
 ],
 "metadata": {
  "kernelspec": {
   "display_name": "Python 3",
   "language": "python",
   "name": "python3"
  },
  "language_info": {
   "codemirror_mode": {
    "name": "ipython",
    "version": 3
   },
   "file_extension": ".py",
   "mimetype": "text/x-python",
   "name": "python",
   "nbconvert_exporter": "python",
   "pygments_lexer": "ipython3",
   "version": "3.8.8"
  }
 },
 "nbformat": 4,
 "nbformat_minor": 5
}
