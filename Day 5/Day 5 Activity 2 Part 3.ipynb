{
 "cells": [
  {
   "cell_type": "code",
   "execution_count": 1,
   "id": "972632c0",
   "metadata": {},
   "outputs": [
    {
     "name": "stdout",
     "output_type": "stream",
     "text": [
      "   Row  Attempt       Name Qualify  Score\n",
      "0    0        1  Anastasia     yes   12.5\n",
      "1    1        3       Dima      no    9.0\n",
      "2    2        2  Katherine     yes   16.5\n",
      "3    3        3      James      no    NaN\n",
      "4    4        2      Emily      no    9.0\n",
      "5    5        3    Micheal     yes   20.0\n",
      "6    6        1    Matthew     yes   14.5\n",
      "7    7        1      Laura      no    NaN\n",
      "8    8        2      kevin      no    8.0\n",
      "9    9        1      Jonas     yes   19.0\n",
      "The average score is : 13.5625\n",
      "Amount of NaNs present:  2\n"
     ]
    }
   ],
   "source": [
    "from numpy import NaN\n",
    "import pandas as pd\n",
    "\n",
    "interML = pd.DataFrame({'Row':[0,1,2,3,4,5,6,7,8,9,], 'Attempt':[1,3,2,3,2,3,1,1,2,1],'Name':['Anastasia','Dima','Katherine','James','Emily', 'Micheal', 'Matthew', 'Laura', 'kevin', 'Jonas'], 'Qualify':['yes','no','yes','no','no','yes','yes','no','no','yes'],'Score':[12.5,9.0,16.5,NaN,9.0,20.0,14.5,NaN,8.0,19.0] })\n",
    "print(interML)\n",
    "print(\"The average score is :\", interML['Score'].mean())\n",
    "print(\"Amount of NaNs present: \",interML['Score'].isna().sum())"
   ]
  },
  {
   "cell_type": "code",
   "execution_count": null,
   "id": "d81be740",
   "metadata": {},
   "outputs": [],
   "source": []
  }
 ],
 "metadata": {
  "kernelspec": {
   "display_name": "Python 3",
   "language": "python",
   "name": "python3"
  },
  "language_info": {
   "codemirror_mode": {
    "name": "ipython",
    "version": 3
   },
   "file_extension": ".py",
   "mimetype": "text/x-python",
   "name": "python",
   "nbconvert_exporter": "python",
   "pygments_lexer": "ipython3",
   "version": "3.8.8"
  }
 },
 "nbformat": 4,
 "nbformat_minor": 5
}
